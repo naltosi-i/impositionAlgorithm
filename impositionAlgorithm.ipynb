{
 "cells": [
  {
   "cell_type": "code",
   "execution_count": 4,
   "metadata": {},
   "outputs": [
    {
     "name": "stdout",
     "output_type": "stream",
     "text": [
      "コピ本（中綴じ）用の面付をするプログラムです。\n",
      "原稿の頁数を半角数字で入力してください。\n",
      "16頁の原稿を4枚の用紙に面付を行います\n",
      "原稿は縦書きですか？横書きですか？\n",
      "縦書き=0, 横書き=1 を入力してください\n",
      "(枚目, (表面), (裏面))\n",
      "('1枚目', ('表面', '左頁1', '右頁16'), ('裏面', '左頁15', '右頁2'))\n",
      "('2枚目', ('表面', '左頁3', '右頁14'), ('裏面', '左頁13', '右頁4'))\n",
      "('3枚目', ('表面', '左頁5', '右頁12'), ('裏面', '左頁11', '右頁6'))\n",
      "('4枚目', ('表面', '左頁7', '右頁10'), ('裏面', '左頁9', '右頁8'))\n",
      "終了するときは exit と入力してください\n"
     ]
    }
   ],
   "source": [
    "import sys\n",
    "\n",
    "n = 0\n",
    "\n",
    "print(\"コピ本（中綴じ）用の面付をするプログラムです。\\n原稿の頁数を半角数字で入力してください。\")\n",
    "\n",
    "while n == 0:\n",
    "\n",
    "    try:\n",
    "        n = int(input())\n",
    "    except ValueError:\n",
    "        print(\"半角数字を入力してください\")\n",
    "        n = 0\n",
    "\n",
    "\n",
    "if n % 4 != 0:\n",
    "    print(\"4の倍数頁の原稿を用意してください。\\n4の倍数頁でない原稿は中綴じ製本できません。\\nプログラムを終了します。\")\n",
    "    sys.exit\n",
    "else:\n",
    "    pages = int(n/4)\n",
    "\n",
    "    print(str(n) + \"頁の原稿を\" + str(pages) + \"枚の用紙に面付を行います\")\n",
    "\n",
    "    manuscriptList = []\n",
    "\n",
    "    while manuscriptList == []:\n",
    "        print(\"原稿は縦書きですか？横書きですか？\\n縦書き=0, 横書き=1 を入力してください\")\n",
    "\n",
    "        try:\n",
    "            vh = int(input())\n",
    "        except ValueError:\n",
    "            vh = None\n",
    "\n",
    "        if vh == 1:\n",
    "            #原稿ページリストの作成\n",
    "            manuscriptList = [i+1 for i in range(n)]\n",
    "        elif vh == 0:\n",
    "            manuscriptList = [i+1 for i in range(n)]\n",
    "            manuscriptList.reverse()\n",
    "        else:\n",
    "            print(\"0か1を半角数字で入力してください\")\n",
    "\n",
    "\n",
    "    # print(manuscriptList)\n",
    "\n",
    "    impositionList = []\n",
    "    side = [\"L\",\"R\"]\n",
    "    \n",
    "    for i in range(pages):\n",
    "        pageStock = []\n",
    "\n",
    "        for k in range(2):\n",
    "            for j , r in enumerate(side):\n",
    "                if r == \"L\":\n",
    "                    index = -1\n",
    "                    pmSign = -1\n",
    "                    pageStock.append(manuscriptList[index + pmSign * ( k + 2 * i)])       \n",
    "\n",
    "                elif r == \"R\":\n",
    "                    index = 0\n",
    "                    pmSign = 1\n",
    "                    pageStock.append(manuscriptList[index + pmSign * ( k + 2 * i)])       \n",
    "            \n",
    "        front = \"表面\", \"左頁\" + str(pageStock[0]), \"右頁\" + str(pageStock[1])\n",
    "        back = \"裏面\", \"左頁\" + str(pageStock[3]), \"右頁\" + str(pageStock[2])\n",
    "\n",
    "        impositionList.append((str(i+1) + \"枚目\", front, back))\n",
    "\n",
    "        print(impositionList[i])\n",
    "\n",
    "status = 1\n",
    "while status > 0:\n",
    "    print(\"終了するときは exit と入力してください\")\n",
    "    s = input()\n",
    "    if s == \"exit\":\n",
    "        status = 0"
   ]
  }
 ],
 "metadata": {
  "kernelspec": {
   "display_name": "Python 3.10.4 64-bit",
   "language": "python",
   "name": "python3"
  },
  "language_info": {
   "codemirror_mode": {
    "name": "ipython",
    "version": 3
   },
   "file_extension": ".py",
   "mimetype": "text/x-python",
   "name": "python",
   "nbconvert_exporter": "python",
   "pygments_lexer": "ipython3",
   "version": "3.10.4"
  },
  "orig_nbformat": 4,
  "vscode": {
   "interpreter": {
    "hash": "353403e0c5c9a78d62e6cc448e0203748e4990e70ca90be7727af8c9327f843c"
   }
  }
 },
 "nbformat": 4,
 "nbformat_minor": 2
}
